{
 "cells": [
  {
   "cell_type": "markdown",
   "metadata": {
    "collapsed": true
   },
   "source": [
    "# K-Means"
   ]
  },
  {
   "cell_type": "markdown",
   "metadata": {},
   "source": [
    "Обработка данных"
   ]
  },
  {
   "cell_type": "code",
   "execution_count": 1,
   "metadata": {},
   "outputs": [],
   "source": [
    "#чтение данных, так как названия конфет уникальны, используем их в качестве индекса\n",
    "import numpy as np\n",
    "import pandas as pd\n",
    "DATA = pd.read_csv(\"data.csv\", delimiter=',', index_col='Object')\n",
    "#удаление столбца Cluster из набора данных\n",
    "coords = DATA.drop('Cluster', axis=1)"
   ]
  },
  {
   "cell_type": "markdown",
   "metadata": {},
   "source": [
    "#### Кластеризация\n",
    "Укажите, к какому кластеру будет отнесен тот или иной объект в результате кластеризации (задание засчитывается только в том случае, если все кластеры указаны верно)."
   ]
  },
  {
   "cell_type": "code",
   "execution_count": 2,
   "metadata": {},
   "outputs": [
    {
     "data": {
      "text/plain": [
       "[2, 1, 0, 1, 2, 0, 2, 2, 1, 2, 1, 1, 1, 0, 0]"
      ]
     },
     "execution_count": 2,
     "metadata": {},
     "output_type": "execute_result"
    }
   ],
   "source": [
    "#подключение KMeans из библиотеки sklearn\n",
    "from sklearn.cluster import KMeans\n",
    "#координаты центроидов\n",
    "centroid = np.array([[11.0, 8.8], [13.0, 11.33], [10.25, 9.75]])\n",
    "#инициализация модели\n",
    "kmeans = KMeans(n_clusters=3, init=centroid, max_iter=100, n_init=1)\n",
    "#обучение модели на данных из coords\n",
    "model = kmeans.fit(coords)\n",
    "#вывод назначенных кластеров\n",
    "model.labels_.tolist()"
   ]
  },
  {
   "cell_type": "code",
   "execution_count": 3,
   "metadata": {},
   "outputs": [
    {
     "data": {
      "text/plain": [
       "array([[ 9.8488578 , 10.51189802,  2.15406592],\n",
       "       [16.64331698,  5.14781507, 15.57690598],\n",
       "       [ 1.41421356, 10.12422837, 11.24455424],\n",
       "       [ 9.8488578 ,  6.04152299, 16.08228839],\n",
       "       [12.20655562, 16.68831927,  4.88262225],\n",
       "       [ 4.12310563,  8.86002257, 13.32066064],\n",
       "       [12.08304597, 11.5974135 ,  1.56204994],\n",
       "       [14.31782106, 10.51189802,  5.16139516],\n",
       "       [ 8.24621125,  4.74341649,  8.2       ],\n",
       "       [11.3137085 , 14.57737974,  2.69072481],\n",
       "       [15.29705854,  6.51920241, 10.39422917],\n",
       "       [11.40175425,  3.53553391, 15.25909565],\n",
       "       [11.40175425,  0.70710678, 13.02459212],\n",
       "       [ 6.32455532, 16.98528775, 11.8       ],\n",
       "       [ 1.        , 10.9772492 , 12.04325537]])"
      ]
     },
     "execution_count": 3,
     "metadata": {},
     "output_type": "execute_result"
    }
   ],
   "source": [
    "#обучение модели и расчет расстояний до центроидов\n",
    "alldistances = kmeans.fit_transform(coords)\n",
    "#вывод расстояний от данных до всех центроидов\n",
    "alldistances"
   ]
  },
  {
   "cell_type": "markdown",
   "metadata": {},
   "source": [
    "По результатам выполнения кластеризации определить среднее расстояний между объектами и центроидом, отнесенных к кластеру 0."
   ]
  },
  {
   "cell_type": "code",
   "execution_count": 4,
   "metadata": {},
   "outputs": [
    {
     "data": {
      "text/plain": [
       "3.215"
      ]
     },
     "execution_count": 4,
     "metadata": {},
     "output_type": "execute_result"
    }
   ],
   "source": [
    "clusterization = model.labels_.tolist()\n",
    "dist = 0\n",
    "counter = 0\n",
    "for index in range(len(coords)):\n",
    "    if clusterization[index] == 0:\n",
    "        dist += alldistances[index][0]\n",
    "        counter += 1\n",
    "np.around(dist/counter, 3)"
   ]
  },
  {
   "cell_type": "code",
   "execution_count": null,
   "metadata": {},
   "outputs": [],
   "source": []
  }
 ],
 "metadata": {
  "kernelspec": {
   "display_name": "Python 3",
   "language": "python",
   "name": "python3"
  },
  "language_info": {
   "codemirror_mode": {
    "name": "ipython",
    "version": 3
   },
   "file_extension": ".py",
   "mimetype": "text/x-python",
   "name": "python",
   "nbconvert_exporter": "python",
   "pygments_lexer": "ipython3",
   "version": "3.7.6"
  }
 },
 "nbformat": 4,
 "nbformat_minor": 2
}
