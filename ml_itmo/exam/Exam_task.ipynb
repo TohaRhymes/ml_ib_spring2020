{
 "cells": [
  {
   "cell_type": "markdown",
   "metadata": {},
   "source": [
    "## EXAM\n",
    "##### by Anton Changalidi\n",
    "### ЧАСТЬ 1.\n",
    "![](./task_1.png)"
   ]
  },
  {
   "cell_type": "code",
   "execution_count": 1,
   "metadata": {},
   "outputs": [],
   "source": [
    "import pandas as pd\n",
    "import numpy as np"
   ]
  },
  {
   "cell_type": "code",
   "execution_count": 2,
   "metadata": {},
   "outputs": [
    {
     "data": {
      "text/html": [
       "<div>\n",
       "<style scoped>\n",
       "    .dataframe tbody tr th:only-of-type {\n",
       "        vertical-align: middle;\n",
       "    }\n",
       "\n",
       "    .dataframe tbody tr th {\n",
       "        vertical-align: top;\n",
       "    }\n",
       "\n",
       "    .dataframe thead th {\n",
       "        text-align: right;\n",
       "    }\n",
       "</style>\n",
       "<table border=\"1\" class=\"dataframe\">\n",
       "  <thead>\n",
       "    <tr style=\"text-align: right;\">\n",
       "      <th></th>\n",
       "      <th>MIP</th>\n",
       "      <th>STDIP</th>\n",
       "      <th>EKIP</th>\n",
       "      <th>SIP</th>\n",
       "      <th>MC</th>\n",
       "      <th>STDC</th>\n",
       "      <th>EKC</th>\n",
       "      <th>SC</th>\n",
       "      <th>TARGET</th>\n",
       "    </tr>\n",
       "  </thead>\n",
       "  <tbody>\n",
       "    <tr>\n",
       "      <th>98</th>\n",
       "      <td>97.140625</td>\n",
       "      <td>47.770894</td>\n",
       "      <td>0.625218</td>\n",
       "      <td>0.740796</td>\n",
       "      <td>4.193144</td>\n",
       "      <td>26.465261</td>\n",
       "      <td>6.927046</td>\n",
       "      <td>49.628527</td>\n",
       "      <td>0</td>\n",
       "    </tr>\n",
       "    <tr>\n",
       "      <th>145</th>\n",
       "      <td>44.867188</td>\n",
       "      <td>45.693334</td>\n",
       "      <td>2.888739</td>\n",
       "      <td>8.810673</td>\n",
       "      <td>176.119565</td>\n",
       "      <td>59.737720</td>\n",
       "      <td>-1.785377</td>\n",
       "      <td>2.940913</td>\n",
       "      <td>1</td>\n",
       "    </tr>\n",
       "    <tr>\n",
       "      <th>346</th>\n",
       "      <td>97.234375</td>\n",
       "      <td>46.536357</td>\n",
       "      <td>0.558616</td>\n",
       "      <td>0.384429</td>\n",
       "      <td>2.010033</td>\n",
       "      <td>13.634376</td>\n",
       "      <td>10.022346</td>\n",
       "      <td>132.125623</td>\n",
       "      <td>0</td>\n",
       "    </tr>\n",
       "    <tr>\n",
       "      <th>358</th>\n",
       "      <td>42.578125</td>\n",
       "      <td>46.638337</td>\n",
       "      <td>2.841558</td>\n",
       "      <td>7.832819</td>\n",
       "      <td>12.971572</td>\n",
       "      <td>38.498849</td>\n",
       "      <td>3.799728</td>\n",
       "      <td>14.990834</td>\n",
       "      <td>1</td>\n",
       "    </tr>\n",
       "    <tr>\n",
       "      <th>445</th>\n",
       "      <td>97.171875</td>\n",
       "      <td>45.656172</td>\n",
       "      <td>0.721308</td>\n",
       "      <td>0.482644</td>\n",
       "      <td>1.557692</td>\n",
       "      <td>12.590775</td>\n",
       "      <td>11.434676</td>\n",
       "      <td>169.923103</td>\n",
       "      <td>0</td>\n",
       "    </tr>\n",
       "  </tbody>\n",
       "</table>\n",
       "</div>"
      ],
      "text/plain": [
       "           MIP      STDIP      EKIP       SIP          MC       STDC  \\\n",
       "98   97.140625  47.770894  0.625218  0.740796    4.193144  26.465261   \n",
       "145  44.867188  45.693334  2.888739  8.810673  176.119565  59.737720   \n",
       "346  97.234375  46.536357  0.558616  0.384429    2.010033  13.634376   \n",
       "358  42.578125  46.638337  2.841558  7.832819   12.971572  38.498849   \n",
       "445  97.171875  45.656172  0.721308  0.482644    1.557692  12.590775   \n",
       "\n",
       "           EKC          SC  TARGET  \n",
       "98    6.927046   49.628527       0  \n",
       "145  -1.785377    2.940913       1  \n",
       "346  10.022346  132.125623       0  \n",
       "358   3.799728   14.990834       1  \n",
       "445  11.434676  169.923103       0  "
      ]
     },
     "execution_count": 2,
     "metadata": {},
     "output_type": "execute_result"
    }
   ],
   "source": [
    "data_stars = pd.read_csv('pulsar_stars_new.csv')\n",
    "mip_boards = [(96.921875, 97.4140625),\n",
    "              (41.8828125, 47.4140625)]\n",
    "data = data_stars[((data_stars.TARGET == 0) & \n",
    "                   (mip_boards[0][0] <= data_stars.MIP) & \n",
    "                   (data_stars.MIP <= mip_boards[0][1])) | \n",
    "                  ((data_stars.TARGET == 1) & \n",
    "                   (mip_boards[1][0] <= data_stars.MIP) & \n",
    "                   (data_stars.MIP <= mip_boards[1][1]))]\n",
    "data.head()"
   ]
  },
  {
   "cell_type": "markdown",
   "metadata": {},
   "source": [
    "#### Укажите число строк в полученной выборке.\n",
    "\n",
    "#### Определите выборочное среднее для столбца `MIP`.\n"
   ]
  },
  {
   "cell_type": "code",
   "execution_count": 3,
   "metadata": {},
   "outputs": [
    {
     "name": "stdout",
     "output_type": "stream",
     "text": [
      "Укажите число строк в полученной выборке: 202\n",
      "Определите выборочное среднее для столбца MIP: 70.795\n"
     ]
    }
   ],
   "source": [
    "print(f'Укажите число строк в полученной выборке: '\n",
    "      f'{data.shape[0]}')\n",
    "print(f'Определите выборочное среднее для столбца MIP: '\n",
    "      f'{np.round(data.MIP.mean(), 3)}')"
   ]
  },
  {
   "cell_type": "markdown",
   "metadata": {},
   "source": [
    "#### Выполните линейную нормировку всех значений предикторов полученной выборки.\n",
    "\n",
    "Определите выборочное среднее для столбца `MIP` после нормировки:"
   ]
  },
  {
   "cell_type": "code",
   "execution_count": 4,
   "metadata": {},
   "outputs": [
    {
     "data": {
      "text/html": [
       "<div>\n",
       "<style scoped>\n",
       "    .dataframe tbody tr th:only-of-type {\n",
       "        vertical-align: middle;\n",
       "    }\n",
       "\n",
       "    .dataframe tbody tr th {\n",
       "        vertical-align: top;\n",
       "    }\n",
       "\n",
       "    .dataframe thead th {\n",
       "        text-align: right;\n",
       "    }\n",
       "</style>\n",
       "<table border=\"1\" class=\"dataframe\">\n",
       "  <thead>\n",
       "    <tr style=\"text-align: right;\">\n",
       "      <th></th>\n",
       "      <th>MIP</th>\n",
       "      <th>STDIP</th>\n",
       "      <th>EKIP</th>\n",
       "      <th>SIP</th>\n",
       "      <th>MC</th>\n",
       "      <th>STDC</th>\n",
       "      <th>EKC</th>\n",
       "      <th>SC</th>\n",
       "    </tr>\n",
       "  </thead>\n",
       "  <tbody>\n",
       "    <tr>\n",
       "      <th>98</th>\n",
       "      <td>97.140625</td>\n",
       "      <td>47.770894</td>\n",
       "      <td>0.625218</td>\n",
       "      <td>0.740796</td>\n",
       "      <td>4.193144</td>\n",
       "      <td>26.465261</td>\n",
       "      <td>6.927046</td>\n",
       "      <td>49.628527</td>\n",
       "    </tr>\n",
       "    <tr>\n",
       "      <th>145</th>\n",
       "      <td>44.867188</td>\n",
       "      <td>45.693334</td>\n",
       "      <td>2.888739</td>\n",
       "      <td>8.810673</td>\n",
       "      <td>176.119565</td>\n",
       "      <td>59.737720</td>\n",
       "      <td>-1.785377</td>\n",
       "      <td>2.940913</td>\n",
       "    </tr>\n",
       "    <tr>\n",
       "      <th>346</th>\n",
       "      <td>97.234375</td>\n",
       "      <td>46.536357</td>\n",
       "      <td>0.558616</td>\n",
       "      <td>0.384429</td>\n",
       "      <td>2.010033</td>\n",
       "      <td>13.634376</td>\n",
       "      <td>10.022346</td>\n",
       "      <td>132.125623</td>\n",
       "    </tr>\n",
       "    <tr>\n",
       "      <th>358</th>\n",
       "      <td>42.578125</td>\n",
       "      <td>46.638337</td>\n",
       "      <td>2.841558</td>\n",
       "      <td>7.832819</td>\n",
       "      <td>12.971572</td>\n",
       "      <td>38.498849</td>\n",
       "      <td>3.799728</td>\n",
       "      <td>14.990834</td>\n",
       "    </tr>\n",
       "    <tr>\n",
       "      <th>445</th>\n",
       "      <td>97.171875</td>\n",
       "      <td>45.656172</td>\n",
       "      <td>0.721308</td>\n",
       "      <td>0.482644</td>\n",
       "      <td>1.557692</td>\n",
       "      <td>12.590775</td>\n",
       "      <td>11.434676</td>\n",
       "      <td>169.923103</td>\n",
       "    </tr>\n",
       "    <tr>\n",
       "      <th>...</th>\n",
       "      <td>...</td>\n",
       "      <td>...</td>\n",
       "      <td>...</td>\n",
       "      <td>...</td>\n",
       "      <td>...</td>\n",
       "      <td>...</td>\n",
       "      <td>...</td>\n",
       "      <td>...</td>\n",
       "    </tr>\n",
       "    <tr>\n",
       "      <th>17186</th>\n",
       "      <td>97.148438</td>\n",
       "      <td>37.160145</td>\n",
       "      <td>0.457632</td>\n",
       "      <td>1.767783</td>\n",
       "      <td>2.464883</td>\n",
       "      <td>17.646414</td>\n",
       "      <td>9.645039</td>\n",
       "      <td>104.454324</td>\n",
       "    </tr>\n",
       "    <tr>\n",
       "      <th>17243</th>\n",
       "      <td>97.101562</td>\n",
       "      <td>46.205864</td>\n",
       "      <td>0.486238</td>\n",
       "      <td>0.375747</td>\n",
       "      <td>0.418060</td>\n",
       "      <td>8.618880</td>\n",
       "      <td>25.031765</td>\n",
       "      <td>682.519179</td>\n",
       "    </tr>\n",
       "    <tr>\n",
       "      <th>17359</th>\n",
       "      <td>97.218750</td>\n",
       "      <td>43.081307</td>\n",
       "      <td>0.473589</td>\n",
       "      <td>0.725725</td>\n",
       "      <td>1.484114</td>\n",
       "      <td>14.872948</td>\n",
       "      <td>12.610224</td>\n",
       "      <td>175.176577</td>\n",
       "    </tr>\n",
       "    <tr>\n",
       "      <th>17539</th>\n",
       "      <td>97.242188</td>\n",
       "      <td>53.488572</td>\n",
       "      <td>0.474394</td>\n",
       "      <td>0.124107</td>\n",
       "      <td>2.417224</td>\n",
       "      <td>18.369826</td>\n",
       "      <td>8.632126</td>\n",
       "      <td>82.292908</td>\n",
       "    </tr>\n",
       "    <tr>\n",
       "      <th>17748</th>\n",
       "      <td>97.312500</td>\n",
       "      <td>41.308434</td>\n",
       "      <td>0.484946</td>\n",
       "      <td>1.121388</td>\n",
       "      <td>2.154682</td>\n",
       "      <td>17.795625</td>\n",
       "      <td>10.721212</td>\n",
       "      <td>126.396478</td>\n",
       "    </tr>\n",
       "  </tbody>\n",
       "</table>\n",
       "<p>202 rows × 8 columns</p>\n",
       "</div>"
      ],
      "text/plain": [
       "             MIP      STDIP      EKIP       SIP          MC       STDC  \\\n",
       "98     97.140625  47.770894  0.625218  0.740796    4.193144  26.465261   \n",
       "145    44.867188  45.693334  2.888739  8.810673  176.119565  59.737720   \n",
       "346    97.234375  46.536357  0.558616  0.384429    2.010033  13.634376   \n",
       "358    42.578125  46.638337  2.841558  7.832819   12.971572  38.498849   \n",
       "445    97.171875  45.656172  0.721308  0.482644    1.557692  12.590775   \n",
       "...          ...        ...       ...       ...         ...        ...   \n",
       "17186  97.148438  37.160145  0.457632  1.767783    2.464883  17.646414   \n",
       "17243  97.101562  46.205864  0.486238  0.375747    0.418060   8.618880   \n",
       "17359  97.218750  43.081307  0.473589  0.725725    1.484114  14.872948   \n",
       "17539  97.242188  53.488572  0.474394  0.124107    2.417224  18.369826   \n",
       "17748  97.312500  41.308434  0.484946  1.121388    2.154682  17.795625   \n",
       "\n",
       "             EKC          SC  \n",
       "98      6.927046   49.628527  \n",
       "145    -1.785377    2.940913  \n",
       "346    10.022346  132.125623  \n",
       "358     3.799728   14.990834  \n",
       "445    11.434676  169.923103  \n",
       "...          ...         ...  \n",
       "17186   9.645039  104.454324  \n",
       "17243  25.031765  682.519179  \n",
       "17359  12.610224  175.176577  \n",
       "17539   8.632126   82.292908  \n",
       "17748  10.721212  126.396478  \n",
       "\n",
       "[202 rows x 8 columns]"
      ]
     },
     "execution_count": 4,
     "metadata": {},
     "output_type": "execute_result"
    }
   ],
   "source": [
    "y = data.TARGET\n",
    "X = data.drop('TARGET', axis = 1)\n",
    "X"
   ]
  },
  {
   "cell_type": "code",
   "execution_count": 5,
   "metadata": {},
   "outputs": [
    {
     "name": "stdout",
     "output_type": "stream",
     "text": [
      "Определите выборочное среднее для столбца MIP после нормализации: 0.521\n"
     ]
    }
   ],
   "source": [
    "from sklearn.preprocessing import MinMaxScaler\n",
    "\n",
    "\n",
    "X = MinMaxScaler().fit_transform(X)\n",
    "\n",
    "col_names = ['MIP','STDIP','EKIP','SIP','MC','STDC','EKC','SC']\n",
    "X = pd.DataFrame(X, columns=col_names)\n",
    "print(f'Определите выборочное среднее для столбца MIP после нормализации: '\n",
    "      f'{np.round(X.MIP.mean(), 3)}')"
   ]
  },
  {
   "cell_type": "markdown",
   "metadata": {},
   "source": [
    "![](./task_1_2.png)\n",
    "#### Введите вероятность отнесения звезды к классу пульсар:"
   ]
  },
  {
   "cell_type": "code",
   "execution_count": 6,
   "metadata": {},
   "outputs": [],
   "source": [
    "from sklearn.linear_model import LogisticRegression\n",
    "\n",
    "LR_model = LogisticRegression(random_state=2019).fit(X, y.values.ravel())"
   ]
  },
  {
   "cell_type": "code",
   "execution_count": 7,
   "metadata": {},
   "outputs": [
    {
     "name": "stdout",
     "output_type": "stream",
     "text": [
      "Вероятность отнесения звезды к классу пульсар:0.578\n"
     ]
    }
   ],
   "source": [
    "new_star = [[0.539, 0.162, 0.188, 0.653, 0.796, 0.233, 0.397, 0.065]]\n",
    "classes = {'пульсар':1, 'не пульсар':0}\n",
    "answers = LR_model.predict_proba(new_star)[0]\n",
    "\n",
    "print('Вероятность отнесения звезды к классу пульсар:'\n",
    "      f'{np.round(answers[classes[\"пульсар\"]], 3)}')\n",
    "# np.round(LR_model.predict_proba(new_star), 3)"
   ]
  },
  {
   "cell_type": "markdown",
   "metadata": {},
   "source": [
    "#### Выполните классификацию новой звезды, с помощью метода k-ближайших соседей, используя нормализованные данные выборки.\n",
    "\n",
    "Введите расстояние от новой звезды до ближайшего соседа, используя евклидову метрику."
   ]
  },
  {
   "cell_type": "code",
   "execution_count": 8,
   "metadata": {},
   "outputs": [],
   "source": [
    "from sklearn.neighbors import KNeighborsClassifier\n",
    "KNN_model = KNeighborsClassifier(n_neighbors=3, p=2).fit(X, y)"
   ]
  },
  {
   "cell_type": "code",
   "execution_count": 9,
   "metadata": {},
   "outputs": [
    {
     "name": "stdout",
     "output_type": "stream",
     "text": [
      "Расстояние от новой звезды до ближайшего соседа, используя евклидову метрику: 0.894\n"
     ]
    }
   ],
   "source": [
    "print('Расстояние от новой звезды до ближайшего соседа, используя евклидову метрику: '\n",
    "      f'{np.round(KNN_model.kneighbors(new_star)[0][0][0], 3)}')"
   ]
  },
  {
   "cell_type": "markdown",
   "metadata": {},
   "source": [
    "### ЧАСТЬ 2. Working with MNIST\n",
    "\n",
    "Используйте метод главных компонент для набора данных `MNIST` (train dataset объема 60000). "
   ]
  },
  {
   "cell_type": "code",
   "execution_count": 10,
   "metadata": {},
   "outputs": [
    {
     "name": "stderr",
     "output_type": "stream",
     "text": [
      "Using TensorFlow backend.\n",
      "/home/toharhymes/anaconda3/lib/python3.7/site-packages/tensorflow/python/framework/dtypes.py:526: FutureWarning: Passing (type, 1) or '1type' as a synonym of type is deprecated; in a future version of numpy, it will be understood as (type, (1,)) / '(1,)type'.\n",
      "  _np_qint8 = np.dtype([(\"qint8\", np.int8, 1)])\n",
      "/home/toharhymes/anaconda3/lib/python3.7/site-packages/tensorflow/python/framework/dtypes.py:527: FutureWarning: Passing (type, 1) or '1type' as a synonym of type is deprecated; in a future version of numpy, it will be understood as (type, (1,)) / '(1,)type'.\n",
      "  _np_quint8 = np.dtype([(\"quint8\", np.uint8, 1)])\n",
      "/home/toharhymes/anaconda3/lib/python3.7/site-packages/tensorflow/python/framework/dtypes.py:528: FutureWarning: Passing (type, 1) or '1type' as a synonym of type is deprecated; in a future version of numpy, it will be understood as (type, (1,)) / '(1,)type'.\n",
      "  _np_qint16 = np.dtype([(\"qint16\", np.int16, 1)])\n",
      "/home/toharhymes/anaconda3/lib/python3.7/site-packages/tensorflow/python/framework/dtypes.py:529: FutureWarning: Passing (type, 1) or '1type' as a synonym of type is deprecated; in a future version of numpy, it will be understood as (type, (1,)) / '(1,)type'.\n",
      "  _np_quint16 = np.dtype([(\"quint16\", np.uint16, 1)])\n",
      "/home/toharhymes/anaconda3/lib/python3.7/site-packages/tensorflow/python/framework/dtypes.py:530: FutureWarning: Passing (type, 1) or '1type' as a synonym of type is deprecated; in a future version of numpy, it will be understood as (type, (1,)) / '(1,)type'.\n",
      "  _np_qint32 = np.dtype([(\"qint32\", np.int32, 1)])\n",
      "/home/toharhymes/anaconda3/lib/python3.7/site-packages/tensorflow/python/framework/dtypes.py:535: FutureWarning: Passing (type, 1) or '1type' as a synonym of type is deprecated; in a future version of numpy, it will be understood as (type, (1,)) / '(1,)type'.\n",
      "  np_resource = np.dtype([(\"resource\", np.ubyte, 1)])\n"
     ]
    }
   ],
   "source": [
    "from keras.datasets import mnist\n",
    "import matplotlib\n",
    "import matplotlib.pyplot as plt\n",
    "\n",
    "from sklearn.decomposition import PCA\n",
    "from sklearn.model_selection import train_test_split\n",
    "from sklearn.multiclass import OneVsRestClassifier\n",
    "from sklearn.ensemble import RandomForestClassifier\n",
    "from sklearn.linear_model import LogisticRegression\n",
    "from sklearn.tree import DecisionTreeClassifier"
   ]
  },
  {
   "cell_type": "code",
   "execution_count": 24,
   "metadata": {},
   "outputs": [],
   "source": [
    "(X_train, y_train), (X_test, y_test) = mnist.load_data()\n",
    "X_train = X_train.reshape(-1, 28*28)\n",
    "X_test = X_test.reshape(-1, 28*28)"
   ]
  },
  {
   "cell_type": "markdown",
   "metadata": {},
   "source": [
    "Определите, какое минимальное количество главных компонент  необходимо использовать, чтобы доля объясненной дисперсии превышала `0.82` (была строго больше указанного значения)."
   ]
  },
  {
   "cell_type": "code",
   "execution_count": 25,
   "metadata": {},
   "outputs": [
    {
     "name": "stdout",
     "output_type": "stream",
     "text": [
      "Количество главных компонент: 49\n"
     ]
    }
   ],
   "source": [
    "threshold = 0.82\n",
    "\n",
    "pca = PCA(n_components=28*28)\n",
    "pca.fit(X_train)\n",
    "variance = np.cumsum(pca.explained_variance_ratio_)\n",
    "\n",
    "M = np.argmax(variance > threshold) + 1\n",
    "\n",
    "print(f'Количество главных компонент: {M}')"
   ]
  },
  {
   "cell_type": "markdown",
   "metadata": {},
   "source": [
    "#### Найдите счеты, отвечающие найденным в предыдущем пункте  главным компонентам: \n",
    "`PCA(n_components=M, svd_solver='full')`."
   ]
  },
  {
   "cell_type": "code",
   "execution_count": 26,
   "metadata": {},
   "outputs": [],
   "source": [
    "pca = PCA(n_components=M, svd_solver='full')\n",
    "X_train = pca.fit_transform(X_train)"
   ]
  },
  {
   "cell_type": "markdown",
   "metadata": {},
   "source": [
    "#### Разделите полученную выборку (после сокращения размерности) случайным образом в отношении 70/30: \n",
    "`train_test_split(X_train, y_train, test_size=0.3, random_state=68)`\n",
    "\n",
    "Введите выборочное среднее нулевой колонки для полученного тренировочного набора:"
   ]
  },
  {
   "cell_type": "code",
   "execution_count": 27,
   "metadata": {},
   "outputs": [
    {
     "name": "stdout",
     "output_type": "stream",
     "text": [
      "Выборочное среднее нулевой колонки для полученного тренировочного набора:1.71\n"
     ]
    }
   ],
   "source": [
    "X_train, X_test, y_train, y_test = X_train, X_test, y_train, y_test = train_test_split(X_train, y_train, test_size=0.3, random_state=68)\n",
    "print(f'Выборочное среднее нулевой колонки для полученного тренировочного набора:'\n",
    "      f'{np.round(np.mean(X_train[:, 0]), 2)}')"
   ]
  },
  {
   "cell_type": "markdown",
   "metadata": {},
   "source": [
    "#### One-vs-All (Random Forest)\n",
    "\n",
    "Используя метод многоклассовой классификации One-vs-All `OneVsRestClassifier()`, обучите алгоритм случайного леса `RandomForestClassifier()` с параметрами `criterion='gini', min_samples_leaf=10, max_depth=20, n_estimators=10, random_state=68`. \n",
    "Выполните оценку с помощью тестовых данных.\n",
    "\n",
    "Введите количество верно классифицированных объектов класса 3 для тестовых данных:"
   ]
  },
  {
   "cell_type": "code",
   "execution_count": 28,
   "metadata": {},
   "outputs": [
    {
     "name": "stdout",
     "output_type": "stream",
     "text": [
      "Количество верно классифицированных объектов класса 3: 1591\n"
     ]
    }
   ],
   "source": [
    "RF_clf = RandomForestClassifier(criterion='gini', min_samples_leaf=10, max_depth=20, n_estimators=10, random_state=68)\n",
    "OA_RF_clf = OneVsRestClassifier(RF_clf)\n",
    "\n",
    "OA_RF_clf.fit(X_train, y_train)\n",
    "y_pred = OA_RF_clf.predict(X_test)\n",
    "\n",
    "print(f'Количество верно классифицированных объектов класса 3: {(y_pred[y_test == 3] == 3).sum()}') "
   ]
  },
  {
   "cell_type": "markdown",
   "metadata": {},
   "source": [
    "#### One-vs-All (Logistic Regression)\n",
    "\n",
    "Используя метод многоклассовой классификации One-vs-All `OneVsRestClassifier()`, обучите алгоритм логистической регрессии `LogisticRegression(solver='lbfgs', random_state=68)`. Остальные параметры оставьте по умолчанию. Выполните оценку с помощью тестовых данных.\n",
    "\n",
    "Введите количество верно классифицированных объектов класса 8 для тестовых данных:"
   ]
  },
  {
   "cell_type": "code",
   "execution_count": 30,
   "metadata": {},
   "outputs": [
    {
     "name": "stderr",
     "output_type": "stream",
     "text": [
      "/home/toharhymes/anaconda3/lib/python3.7/site-packages/sklearn/linear_model/_logistic.py:762: ConvergenceWarning: lbfgs failed to converge (status=1):\n",
      "STOP: TOTAL NO. of ITERATIONS REACHED LIMIT.\n",
      "\n",
      "Increase the number of iterations (max_iter) or scale the data as shown in:\n",
      "    https://scikit-learn.org/stable/modules/preprocessing.html\n",
      "Please also refer to the documentation for alternative solver options:\n",
      "    https://scikit-learn.org/stable/modules/linear_model.html#logistic-regression\n",
      "  extra_warning_msg=_LOGISTIC_SOLVER_CONVERGENCE_MSG)\n"
     ]
    },
    {
     "name": "stdout",
     "output_type": "stream",
     "text": [
      "Количество верно классифицированных объектов класса 8: 1495\n"
     ]
    }
   ],
   "source": [
    "LR_clf = LogisticRegression(solver='lbfgs', random_state=68)\n",
    "OA_LR_clf = OneVsRestClassifier(LR_clf)\n",
    "\n",
    "OA_LR_clf.fit(X_train, y_train)\n",
    "y_pred = OA_LR_clf.predict(X_test)\n",
    "\n",
    "print(f'Количество верно классифицированных объектов класса 8: {(y_pred[y_test == 8] == 8).sum()}') "
   ]
  },
  {
   "cell_type": "markdown",
   "metadata": {},
   "source": [
    "#### One-vs-All (DecisionTreeClassifier)\n",
    "Используя метод многоклассовой классификации One-vs-All `OneVsRestClassifier()`, обучите дерево принятия решений `DecisionTreeClassifier()` с параметрами `criterion='gini', min_samples_leaf=10, max_depth=20, random_state=68`. Выполните оценку с помощью тестовых данных.\n",
    "\n",
    "Введите количество верно классифицированных объектов класса 5 для тестовых данных:"
   ]
  },
  {
   "cell_type": "code",
   "execution_count": 31,
   "metadata": {},
   "outputs": [
    {
     "name": "stdout",
     "output_type": "stream",
     "text": [
      "Количество верно классифицированных объектов класса 5: 1198\n"
     ]
    }
   ],
   "source": [
    "DT_clf = DecisionTreeClassifier(criterion='gini', min_samples_leaf=10, max_depth=20, random_state=68)\n",
    "OA_DT_clf = OneVsRestClassifier(DT_clf)\n",
    "\n",
    "OA_DT_clf.fit(X_train, y_train)\n",
    "y_pred = OA_DT_clf.predict(X_test)\n",
    "\n",
    "print(f'Количество верно классифицированных объектов класса 5: {(y_pred[y_test == 5] == 5).sum()}') "
   ]
  },
  {
   "cell_type": "markdown",
   "metadata": {},
   "source": [
    "#### Примените полученное ранее преобразование метода главных компонент к новым данным (идентификаторы строк соответствуют файлам изображений).\n",
    "`./pred_for_task.csv`"
   ]
  },
  {
   "cell_type": "code",
   "execution_count": 32,
   "metadata": {},
   "outputs": [],
   "source": [
    "data = pd.read_csv('./pred_for_task.csv', index_col='FileName')"
   ]
  },
  {
   "cell_type": "markdown",
   "metadata": {},
   "source": [
    "#### Выполните предсказание для указанных изображений цифр с помощью обученных алгоритмов."
   ]
  },
  {
   "cell_type": "code",
   "execution_count": 33,
   "metadata": {},
   "outputs": [],
   "source": [
    "def get_row(name):\n",
    "    x = data.loc[name, :].drop('Label')\n",
    "    y = data.loc[name, :].Label\n",
    "    return x, y\n",
    "\n",
    "\n",
    "def predict_digit(x, y, clf, name):\n",
    "    plt.imshow(x.to_numpy().reshape([28,28]), cmap='Greys_r')\n",
    "    plt.show()\n",
    "    x = pca.transform([x])\n",
    "    print(f'Вероятность отнесения изображения file18 к классу {y} алгоритмом {name}:\\n'\n",
    "          f'{np.round(clf.predict_proba(x)[0][y], 3)}')"
   ]
  },
  {
   "cell_type": "markdown",
   "metadata": {},
   "source": [
    "Введите вероятность отнесения изображения file18 к назначенному классу алгоритмом случайного леса."
   ]
  },
  {
   "cell_type": "code",
   "execution_count": 34,
   "metadata": {},
   "outputs": [
    {
     "data": {
      "image/png": "[encoded data removed]",
      "text/plain": [
       "<Figure size 432x288 with 1 Axes>"
      ]
     },
     "metadata": {
      "needs_background": "light"
     },
     "output_type": "display_data"
    },
    {
     "name": "stdout",
     "output_type": "stream",
     "text": [
      "Вероятность отнесения изображения file18 к классу 7 алгоритмом  random forest:\n",
      "0.88\n"
     ]
    }
   ],
   "source": [
    "x, y = get_row('file18')\n",
    "predict_digit(x, y, OA_RF_clf, ' random forest')"
   ]
  },
  {
   "cell_type": "markdown",
   "metadata": {},
   "source": [
    "Введите вероятность отнесения изображения file15 к назначенному классу алгоритмом логистической регрессией."
   ]
  },
  {
   "cell_type": "code",
   "execution_count": 35,
   "metadata": {},
   "outputs": [
    {
     "data": {
      "image/png": "[encoded data removed]",
      "text/plain": [
       "<Figure size 432x288 with 1 Axes>"
      ]
     },
     "metadata": {
      "needs_background": "light"
     },
     "output_type": "display_data"
    },
    {
     "name": "stdout",
     "output_type": "stream",
     "text": [
      "Вероятность отнесения изображения file18 к классу 1 алгоритмом logistic regression:\n",
      "0.902\n"
     ]
    }
   ],
   "source": [
    "x, y = get_row('file15')\n",
    "predict_digit(x, y, OA_LR_clf, 'logistic regression')"
   ]
  },
  {
   "cell_type": "markdown",
   "metadata": {},
   "source": [
    "Введите вероятность отнесения изображения file19 к назначенному классу деревом принятия решений."
   ]
  },
  {
   "cell_type": "code",
   "execution_count": 36,
   "metadata": {},
   "outputs": [
    {
     "data": {
      "image/png": "[encoded data removed]",
      "text/plain": [
       "<Figure size 432x288 with 1 Axes>"
      ]
     },
     "metadata": {
      "needs_background": "light"
     },
     "output_type": "display_data"
    },
    {
     "name": "stdout",
     "output_type": "stream",
     "text": [
      "Вероятность отнесения изображения file18 к классу 3 алгоритмом decicion tree:\n",
      "0.674\n"
     ]
    }
   ],
   "source": [
    "x, y = get_row('file19')\n",
    "predict_digit(x, y, OA_DT_clf, 'decicion tree')"
   ]
  },
  {
   "cell_type": "code",
   "execution_count": null,
   "metadata": {},
   "outputs": [],
   "source": []
  },
  {
   "cell_type": "code",
   "execution_count": null,
   "metadata": {},
   "outputs": [],
   "source": []
  }
 ],
 "metadata": {
  "kernelspec": {
   "display_name": "Python 3",
   "language": "python",
   "name": "python3"
  },
  "language_info": {
   "codemirror_mode": {
    "name": "ipython",
    "version": 3
   },
   "file_extension": ".py",
   "mimetype": "text/x-python",
   "name": "python",
   "nbconvert_exporter": "python",
   "pygments_lexer": "ipython3",
   "version": "3.7.6"
  }
 },
 "nbformat": 4,
 "nbformat_minor": 4
}
