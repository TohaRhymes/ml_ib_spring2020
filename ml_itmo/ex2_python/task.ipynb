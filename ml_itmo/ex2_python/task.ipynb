{
 "cells": [
  {
   "cell_type": "markdown",
   "metadata": {},
   "source": [
    "## Pandas и Numpy \n",
    "![](task.png)"
   ]
  },
  {
   "cell_type": "code",
   "execution_count": 1,
   "metadata": {},
   "outputs": [],
   "source": [
    "import pandas as pd\n",
    "import numpy as np\n",
    "from sklearn.preprocessing import MinMaxScaler\n",
    "import math"
   ]
  },
  {
   "cell_type": "code",
   "execution_count": 2,
   "metadata": {},
   "outputs": [
    {
     "data": {
      "text/html": [
       "<div>\n",
       "<style scoped>\n",
       "    .dataframe tbody tr th:only-of-type {\n",
       "        vertical-align: middle;\n",
       "    }\n",
       "\n",
       "    .dataframe tbody tr th {\n",
       "        vertical-align: top;\n",
       "    }\n",
       "\n",
       "    .dataframe thead th {\n",
       "        text-align: right;\n",
       "    }\n",
       "</style>\n",
       "<table border=\"1\" class=\"dataframe\">\n",
       "  <thead>\n",
       "    <tr style=\"text-align: right;\">\n",
       "      <th></th>\n",
       "      <th>MIP</th>\n",
       "      <th>STDIP</th>\n",
       "      <th>EKIP</th>\n",
       "      <th>SIP</th>\n",
       "      <th>MC</th>\n",
       "      <th>STDC</th>\n",
       "      <th>EKC</th>\n",
       "      <th>SC</th>\n",
       "      <th>TARGET</th>\n",
       "    </tr>\n",
       "  </thead>\n",
       "  <tbody>\n",
       "    <tr>\n",
       "      <th>0</th>\n",
       "      <td>137.218750</td>\n",
       "      <td>45.390655</td>\n",
       "      <td>0.034985</td>\n",
       "      <td>0.134409</td>\n",
       "      <td>3.204013</td>\n",
       "      <td>17.177857</td>\n",
       "      <td>7.494588</td>\n",
       "      <td>74.003104</td>\n",
       "      <td>0</td>\n",
       "    </tr>\n",
       "    <tr>\n",
       "      <th>1</th>\n",
       "      <td>93.773438</td>\n",
       "      <td>41.883062</td>\n",
       "      <td>0.371402</td>\n",
       "      <td>1.291232</td>\n",
       "      <td>1.482441</td>\n",
       "      <td>12.959050</td>\n",
       "      <td>12.242911</td>\n",
       "      <td>180.158844</td>\n",
       "      <td>0</td>\n",
       "    </tr>\n",
       "    <tr>\n",
       "      <th>2</th>\n",
       "      <td>73.632812</td>\n",
       "      <td>35.461218</td>\n",
       "      <td>1.153607</td>\n",
       "      <td>4.161082</td>\n",
       "      <td>2.099498</td>\n",
       "      <td>13.057474</td>\n",
       "      <td>10.013591</td>\n",
       "      <td>140.894151</td>\n",
       "      <td>0</td>\n",
       "    </tr>\n",
       "    <tr>\n",
       "      <th>3</th>\n",
       "      <td>93.429688</td>\n",
       "      <td>39.883166</td>\n",
       "      <td>0.602060</td>\n",
       "      <td>1.518548</td>\n",
       "      <td>2.475753</td>\n",
       "      <td>14.146578</td>\n",
       "      <td>8.770640</td>\n",
       "      <td>107.970173</td>\n",
       "      <td>0</td>\n",
       "    </tr>\n",
       "    <tr>\n",
       "      <th>4</th>\n",
       "      <td>131.625000</td>\n",
       "      <td>44.111896</td>\n",
       "      <td>0.108905</td>\n",
       "      <td>0.239879</td>\n",
       "      <td>33.888796</td>\n",
       "      <td>70.398342</td>\n",
       "      <td>1.689460</td>\n",
       "      <td>1.031847</td>\n",
       "      <td>0</td>\n",
       "    </tr>\n",
       "  </tbody>\n",
       "</table>\n",
       "</div>"
      ],
      "text/plain": [
       "          MIP      STDIP      EKIP       SIP         MC       STDC        EKC  \\\n",
       "0  137.218750  45.390655  0.034985  0.134409   3.204013  17.177857   7.494588   \n",
       "1   93.773438  41.883062  0.371402  1.291232   1.482441  12.959050  12.242911   \n",
       "2   73.632812  35.461218  1.153607  4.161082   2.099498  13.057474  10.013591   \n",
       "3   93.429688  39.883166  0.602060  1.518548   2.475753  14.146578   8.770640   \n",
       "4  131.625000  44.111896  0.108905  0.239879  33.888796  70.398342   1.689460   \n",
       "\n",
       "           SC  TARGET  \n",
       "0   74.003104       0  \n",
       "1  180.158844       0  \n",
       "2  140.894151       0  \n",
       "3  107.970173       0  \n",
       "4    1.031847       0  "
      ]
     },
     "execution_count": 2,
     "metadata": {},
     "output_type": "execute_result"
    }
   ],
   "source": [
    "data = pd.read_csv('report.csv')\n",
    "data.head()"
   ]
  },
  {
   "cell_type": "code",
   "execution_count": 3,
   "metadata": {},
   "outputs": [
    {
     "data": {
      "text/plain": [
       "(17898, 9)"
      ]
     },
     "execution_count": 3,
     "metadata": {},
     "output_type": "execute_result"
    }
   ],
   "source": [
    "data.shape"
   ]
  },
  {
   "cell_type": "markdown",
   "metadata": {},
   "source": [
    "### Выборка"
   ]
  },
  {
   "cell_type": "code",
   "execution_count": 4,
   "metadata": {},
   "outputs": [
    {
     "data": {
      "text/html": [
       "<div>\n",
       "<style scoped>\n",
       "    .dataframe tbody tr th:only-of-type {\n",
       "        vertical-align: middle;\n",
       "    }\n",
       "\n",
       "    .dataframe tbody tr th {\n",
       "        vertical-align: top;\n",
       "    }\n",
       "\n",
       "    .dataframe thead th {\n",
       "        text-align: right;\n",
       "    }\n",
       "</style>\n",
       "<table border=\"1\" class=\"dataframe\">\n",
       "  <thead>\n",
       "    <tr style=\"text-align: right;\">\n",
       "      <th></th>\n",
       "      <th>MIP</th>\n",
       "      <th>STDIP</th>\n",
       "      <th>EKIP</th>\n",
       "      <th>SIP</th>\n",
       "      <th>MC</th>\n",
       "      <th>STDC</th>\n",
       "      <th>EKC</th>\n",
       "      <th>SC</th>\n",
       "      <th>TARGET</th>\n",
       "    </tr>\n",
       "  </thead>\n",
       "  <tbody>\n",
       "    <tr>\n",
       "      <th>26</th>\n",
       "      <td>96.203125</td>\n",
       "      <td>45.111729</td>\n",
       "      <td>0.773960</td>\n",
       "      <td>1.435801</td>\n",
       "      <td>2.346154</td>\n",
       "      <td>14.867269</td>\n",
       "      <td>9.468971</td>\n",
       "      <td>112.136515</td>\n",
       "      <td>0</td>\n",
       "    </tr>\n",
       "    <tr>\n",
       "      <th>155</th>\n",
       "      <td>80.640625</td>\n",
       "      <td>56.308821</td>\n",
       "      <td>1.481006</td>\n",
       "      <td>1.952136</td>\n",
       "      <td>27.807692</td>\n",
       "      <td>63.855448</td>\n",
       "      <td>2.179750</td>\n",
       "      <td>3.354892</td>\n",
       "      <td>1</td>\n",
       "    </tr>\n",
       "    <tr>\n",
       "      <th>511</th>\n",
       "      <td>96.281250</td>\n",
       "      <td>40.433769</td>\n",
       "      <td>0.518182</td>\n",
       "      <td>1.584537</td>\n",
       "      <td>2.040970</td>\n",
       "      <td>12.956545</td>\n",
       "      <td>10.757996</td>\n",
       "      <td>155.213413</td>\n",
       "      <td>0</td>\n",
       "    </tr>\n",
       "    <tr>\n",
       "      <th>578</th>\n",
       "      <td>80.140625</td>\n",
       "      <td>34.426265</td>\n",
       "      <td>1.697879</td>\n",
       "      <td>6.213364</td>\n",
       "      <td>7.822742</td>\n",
       "      <td>38.341936</td>\n",
       "      <td>5.048004</td>\n",
       "      <td>24.802277</td>\n",
       "      <td>1</td>\n",
       "    </tr>\n",
       "    <tr>\n",
       "      <th>595</th>\n",
       "      <td>80.523438</td>\n",
       "      <td>54.076185</td>\n",
       "      <td>1.390950</td>\n",
       "      <td>1.282292</td>\n",
       "      <td>66.311873</td>\n",
       "      <td>77.549955</td>\n",
       "      <td>0.870147</td>\n",
       "      <td>-0.478376</td>\n",
       "      <td>1</td>\n",
       "    </tr>\n",
       "    <tr>\n",
       "      <th>...</th>\n",
       "      <td>...</td>\n",
       "      <td>...</td>\n",
       "      <td>...</td>\n",
       "      <td>...</td>\n",
       "      <td>...</td>\n",
       "      <td>...</td>\n",
       "      <td>...</td>\n",
       "      <td>...</td>\n",
       "      <td>...</td>\n",
       "    </tr>\n",
       "    <tr>\n",
       "      <th>17154</th>\n",
       "      <td>96.171875</td>\n",
       "      <td>35.420269</td>\n",
       "      <td>0.325330</td>\n",
       "      <td>2.096321</td>\n",
       "      <td>2.729097</td>\n",
       "      <td>15.941737</td>\n",
       "      <td>8.732830</td>\n",
       "      <td>97.425233</td>\n",
       "      <td>0</td>\n",
       "    </tr>\n",
       "    <tr>\n",
       "      <th>17486</th>\n",
       "      <td>81.718750</td>\n",
       "      <td>52.875286</td>\n",
       "      <td>1.482041</td>\n",
       "      <td>1.538289</td>\n",
       "      <td>170.656354</td>\n",
       "      <td>80.765608</td>\n",
       "      <td>-1.002570</td>\n",
       "      <td>-0.280001</td>\n",
       "      <td>1</td>\n",
       "    </tr>\n",
       "    <tr>\n",
       "      <th>17515</th>\n",
       "      <td>96.085938</td>\n",
       "      <td>45.193685</td>\n",
       "      <td>0.733569</td>\n",
       "      <td>0.958316</td>\n",
       "      <td>1.693980</td>\n",
       "      <td>15.119258</td>\n",
       "      <td>11.204729</td>\n",
       "      <td>143.065131</td>\n",
       "      <td>0</td>\n",
       "    </tr>\n",
       "    <tr>\n",
       "      <th>17648</th>\n",
       "      <td>96.218750</td>\n",
       "      <td>42.145940</td>\n",
       "      <td>0.353843</td>\n",
       "      <td>0.970000</td>\n",
       "      <td>1.464047</td>\n",
       "      <td>13.155344</td>\n",
       "      <td>12.349430</td>\n",
       "      <td>182.561654</td>\n",
       "      <td>0</td>\n",
       "    </tr>\n",
       "    <tr>\n",
       "      <th>17734</th>\n",
       "      <td>96.156250</td>\n",
       "      <td>46.261559</td>\n",
       "      <td>0.666470</td>\n",
       "      <td>0.949210</td>\n",
       "      <td>2.599498</td>\n",
       "      <td>14.588421</td>\n",
       "      <td>8.495328</td>\n",
       "      <td>99.460388</td>\n",
       "      <td>0</td>\n",
       "    </tr>\n",
       "  </tbody>\n",
       "</table>\n",
       "<p>197 rows × 9 columns</p>\n",
       "</div>"
      ],
      "text/plain": [
       "             MIP      STDIP      EKIP       SIP          MC       STDC  \\\n",
       "26     96.203125  45.111729  0.773960  1.435801    2.346154  14.867269   \n",
       "155    80.640625  56.308821  1.481006  1.952136   27.807692  63.855448   \n",
       "511    96.281250  40.433769  0.518182  1.584537    2.040970  12.956545   \n",
       "578    80.140625  34.426265  1.697879  6.213364    7.822742  38.341936   \n",
       "595    80.523438  54.076185  1.390950  1.282292   66.311873  77.549955   \n",
       "...          ...        ...       ...       ...         ...        ...   \n",
       "17154  96.171875  35.420269  0.325330  2.096321    2.729097  15.941737   \n",
       "17486  81.718750  52.875286  1.482041  1.538289  170.656354  80.765608   \n",
       "17515  96.085938  45.193685  0.733569  0.958316    1.693980  15.119258   \n",
       "17648  96.218750  42.145940  0.353843  0.970000    1.464047  13.155344   \n",
       "17734  96.156250  46.261559  0.666470  0.949210    2.599498  14.588421   \n",
       "\n",
       "             EKC          SC  TARGET  \n",
       "26      9.468971  112.136515       0  \n",
       "155     2.179750    3.354892       1  \n",
       "511    10.757996  155.213413       0  \n",
       "578     5.048004   24.802277       1  \n",
       "595     0.870147   -0.478376       1  \n",
       "...          ...         ...     ...  \n",
       "17154   8.732830   97.425233       0  \n",
       "17486  -1.002570   -0.280001       1  \n",
       "17515  11.204729  143.065131       0  \n",
       "17648  12.349430  182.561654       0  \n",
       "17734   8.495328   99.460388       0  \n",
       "\n",
       "[197 rows x 9 columns]"
      ]
     },
     "execution_count": 4,
     "metadata": {},
     "output_type": "execute_result"
    }
   ],
   "source": [
    "viborka = data.loc[((data['TARGET'] == 0) & (data['MIP'] > 95.8984375) & (data['MIP'] < 96.4140625)) | ((data['TARGET'] == 1) & (data['MIP'] > 77.4921875) & (data['MIP'] < 83.7734375))]\n",
    "viborka"
   ]
  },
  {
   "cell_type": "code",
   "execution_count": 5,
   "metadata": {},
   "outputs": [
    {
     "data": {
      "text/plain": [
       "(197, 9)"
      ]
     },
     "execution_count": 5,
     "metadata": {},
     "output_type": "execute_result"
    }
   ],
   "source": [
    "viborka.shape"
   ]
  },
  {
   "cell_type": "code",
   "execution_count": 6,
   "metadata": {},
   "outputs": [
    {
     "data": {
      "text/plain": [
       "88.35176078680203"
      ]
     },
     "execution_count": 6,
     "metadata": {},
     "output_type": "execute_result"
    }
   ],
   "source": [
    "viborka.MIP.mean()"
   ]
  },
  {
   "cell_type": "markdown",
   "metadata": {},
   "source": [
    "ПОЧЕМУТО БД дает другое на запрос:\n",
    "`SELECT * FROM pulsar_stars WHERE (TARGET = 0 AND MIP BETWEEN 95.8984375 AND 96.4140625) OR (TARGET = 1 AND MIP BETWEEN 77.4921875 AND 83.77343752)`"
   ]
  },
  {
   "cell_type": "markdown",
   "metadata": {},
   "source": [
    "### Нормализация"
   ]
  },
  {
   "cell_type": "code",
   "execution_count": 7,
   "metadata": {},
   "outputs": [],
   "source": [
    "data = pd.read_csv('selection_2.csv')"
   ]
  },
  {
   "cell_type": "code",
   "execution_count": 8,
   "metadata": {},
   "outputs": [
    {
     "data": {
      "text/html": [
       "<div>\n",
       "<style scoped>\n",
       "    .dataframe tbody tr th:only-of-type {\n",
       "        vertical-align: middle;\n",
       "    }\n",
       "\n",
       "    .dataframe tbody tr th {\n",
       "        vertical-align: top;\n",
       "    }\n",
       "\n",
       "    .dataframe thead th {\n",
       "        text-align: right;\n",
       "    }\n",
       "</style>\n",
       "<table border=\"1\" class=\"dataframe\">\n",
       "  <thead>\n",
       "    <tr style=\"text-align: right;\">\n",
       "      <th></th>\n",
       "      <th>MIP</th>\n",
       "      <th>STDIP</th>\n",
       "      <th>EKIP</th>\n",
       "      <th>SIP</th>\n",
       "      <th>MC</th>\n",
       "      <th>STDC</th>\n",
       "      <th>EKC</th>\n",
       "      <th>SC</th>\n",
       "    </tr>\n",
       "  </thead>\n",
       "  <tbody>\n",
       "    <tr>\n",
       "      <th>0</th>\n",
       "      <td>96.203125</td>\n",
       "      <td>45.111729</td>\n",
       "      <td>0.773960</td>\n",
       "      <td>1.435801</td>\n",
       "      <td>2.346154</td>\n",
       "      <td>14.867269</td>\n",
       "      <td>9.468971</td>\n",
       "      <td>112.136515</td>\n",
       "    </tr>\n",
       "    <tr>\n",
       "      <th>1</th>\n",
       "      <td>80.640625</td>\n",
       "      <td>56.308821</td>\n",
       "      <td>1.481006</td>\n",
       "      <td>1.952136</td>\n",
       "      <td>27.807692</td>\n",
       "      <td>63.855448</td>\n",
       "      <td>2.179750</td>\n",
       "      <td>3.354892</td>\n",
       "    </tr>\n",
       "    <tr>\n",
       "      <th>2</th>\n",
       "      <td>96.281250</td>\n",
       "      <td>40.433769</td>\n",
       "      <td>0.518182</td>\n",
       "      <td>1.584537</td>\n",
       "      <td>2.040970</td>\n",
       "      <td>12.956545</td>\n",
       "      <td>10.757996</td>\n",
       "      <td>155.213413</td>\n",
       "    </tr>\n",
       "    <tr>\n",
       "      <th>3</th>\n",
       "      <td>80.140625</td>\n",
       "      <td>34.426265</td>\n",
       "      <td>1.697879</td>\n",
       "      <td>6.213364</td>\n",
       "      <td>7.822742</td>\n",
       "      <td>38.341936</td>\n",
       "      <td>5.048004</td>\n",
       "      <td>24.802277</td>\n",
       "    </tr>\n",
       "    <tr>\n",
       "      <th>4</th>\n",
       "      <td>80.523438</td>\n",
       "      <td>54.076185</td>\n",
       "      <td>1.390950</td>\n",
       "      <td>1.282292</td>\n",
       "      <td>66.311873</td>\n",
       "      <td>77.549955</td>\n",
       "      <td>0.870147</td>\n",
       "      <td>-0.478376</td>\n",
       "    </tr>\n",
       "  </tbody>\n",
       "</table>\n",
       "</div>"
      ],
      "text/plain": [
       "         MIP      STDIP      EKIP       SIP         MC       STDC        EKC  \\\n",
       "0  96.203125  45.111729  0.773960  1.435801   2.346154  14.867269   9.468971   \n",
       "1  80.640625  56.308821  1.481006  1.952136  27.807692  63.855448   2.179750   \n",
       "2  96.281250  40.433769  0.518182  1.584537   2.040970  12.956545  10.757996   \n",
       "3  80.140625  34.426265  1.697879  6.213364   7.822742  38.341936   5.048004   \n",
       "4  80.523438  54.076185  1.390950  1.282292  66.311873  77.549955   0.870147   \n",
       "\n",
       "           SC  \n",
       "0  112.136515  \n",
       "1    3.354892  \n",
       "2  155.213413  \n",
       "3   24.802277  \n",
       "4   -0.478376  "
      ]
     },
     "execution_count": 8,
     "metadata": {},
     "output_type": "execute_result"
    }
   ],
   "source": [
    "data_normalized = data.drop('TARGET', axis = 1)\n",
    "data_normalized.head()"
   ]
  },
  {
   "cell_type": "code",
   "execution_count": 9,
   "metadata": {},
   "outputs": [
    {
     "data": {
      "text/html": [
       "<div>\n",
       "<style scoped>\n",
       "    .dataframe tbody tr th:only-of-type {\n",
       "        vertical-align: middle;\n",
       "    }\n",
       "\n",
       "    .dataframe tbody tr th {\n",
       "        vertical-align: top;\n",
       "    }\n",
       "\n",
       "    .dataframe thead th {\n",
       "        text-align: right;\n",
       "    }\n",
       "</style>\n",
       "<table border=\"1\" class=\"dataframe\">\n",
       "  <thead>\n",
       "    <tr style=\"text-align: right;\">\n",
       "      <th></th>\n",
       "      <th>0</th>\n",
       "      <th>1</th>\n",
       "      <th>2</th>\n",
       "      <th>3</th>\n",
       "      <th>4</th>\n",
       "      <th>5</th>\n",
       "      <th>6</th>\n",
       "      <th>7</th>\n",
       "    </tr>\n",
       "  </thead>\n",
       "  <tbody>\n",
       "    <tr>\n",
       "      <th>0</th>\n",
       "      <td>0.988852</td>\n",
       "      <td>0.267196</td>\n",
       "      <td>0.252354</td>\n",
       "      <td>0.165954</td>\n",
       "      <td>0.011335</td>\n",
       "      <td>0.071655</td>\n",
       "      <td>0.393315</td>\n",
       "      <td>0.154903</td>\n",
       "    </tr>\n",
       "    <tr>\n",
       "      <th>1</th>\n",
       "      <td>0.166391</td>\n",
       "      <td>0.479300</td>\n",
       "      <td>0.557995</td>\n",
       "      <td>0.207376</td>\n",
       "      <td>0.160766</td>\n",
       "      <td>0.616598</td>\n",
       "      <td>0.125296</td>\n",
       "      <td>0.007057</td>\n",
       "    </tr>\n",
       "    <tr>\n",
       "      <th>2</th>\n",
       "      <td>0.992981</td>\n",
       "      <td>0.178583</td>\n",
       "      <td>0.141787</td>\n",
       "      <td>0.177886</td>\n",
       "      <td>0.009544</td>\n",
       "      <td>0.050400</td>\n",
       "      <td>0.440711</td>\n",
       "      <td>0.213450</td>\n",
       "    </tr>\n",
       "    <tr>\n",
       "      <th>3</th>\n",
       "      <td>0.139967</td>\n",
       "      <td>0.064784</td>\n",
       "      <td>0.651744</td>\n",
       "      <td>0.549223</td>\n",
       "      <td>0.043477</td>\n",
       "      <td>0.332787</td>\n",
       "      <td>0.230759</td>\n",
       "      <td>0.036206</td>\n",
       "    </tr>\n",
       "    <tr>\n",
       "      <th>4</th>\n",
       "      <td>0.160198</td>\n",
       "      <td>0.437008</td>\n",
       "      <td>0.519065</td>\n",
       "      <td>0.153639</td>\n",
       "      <td>0.386742</td>\n",
       "      <td>0.768935</td>\n",
       "      <td>0.077143</td>\n",
       "      <td>0.001847</td>\n",
       "    </tr>\n",
       "  </tbody>\n",
       "</table>\n",
       "</div>"
      ],
      "text/plain": [
       "          0         1         2         3         4         5         6  \\\n",
       "0  0.988852  0.267196  0.252354  0.165954  0.011335  0.071655  0.393315   \n",
       "1  0.166391  0.479300  0.557995  0.207376  0.160766  0.616598  0.125296   \n",
       "2  0.992981  0.178583  0.141787  0.177886  0.009544  0.050400  0.440711   \n",
       "3  0.139967  0.064784  0.651744  0.549223  0.043477  0.332787  0.230759   \n",
       "4  0.160198  0.437008  0.519065  0.153639  0.386742  0.768935  0.077143   \n",
       "\n",
       "          7  \n",
       "0  0.154903  \n",
       "1  0.007057  \n",
       "2  0.213450  \n",
       "3  0.036206  \n",
       "4  0.001847  "
      ]
     },
     "execution_count": 9,
     "metadata": {},
     "output_type": "execute_result"
    }
   ],
   "source": [
    "scaler = MinMaxScaler()\n",
    "scaler.fit(data_normalized)\n",
    "data_normalized = pd.DataFrame(scaler.transform(data_normalized))\n",
    "data_normalized.head()"
   ]
  },
  {
   "cell_type": "code",
   "execution_count": 10,
   "metadata": {},
   "outputs": [
    {
     "data": {
      "text/plain": [
       "0.5800930198669066"
      ]
     },
     "execution_count": 10,
     "metadata": {},
     "output_type": "execute_result"
    }
   ],
   "source": [
    "data_normalized[0].mean()"
   ]
  },
  {
   "cell_type": "markdown",
   "metadata": {},
   "source": [
    "### Euclidean distance"
   ]
  },
  {
   "cell_type": "code",
   "execution_count": 11,
   "metadata": {},
   "outputs": [],
   "source": [
    "def eucl_dist(a, b):\n",
    "    return math.sqrt(np.sum((a-b)**2))"
   ]
  },
  {
   "cell_type": "code",
   "execution_count": 12,
   "metadata": {},
   "outputs": [],
   "source": [
    "STAR = np.array([0.363, 0.178, 0.43, 0.292, 0.575, 0.872, 0.023, 0.161])"
   ]
  },
  {
   "cell_type": "code",
   "execution_count": 13,
   "metadata": {},
   "outputs": [
    {
     "data": {
      "text/plain": [
       "0.24905632298378189"
      ]
     },
     "execution_count": 13,
     "metadata": {},
     "output_type": "execute_result"
    }
   ],
   "source": [
    "min_dist = -1\n",
    "for i in range(data_normalized.shape[0]):\n",
    "    dist = eucl_dist(np.array(data_normalized.iloc[i]), STAR)\n",
    "    if min_dist == -1 or dist < min_dist:\n",
    "        min_dist = dist\n",
    "min_dist"
   ]
  }
 ],
 "metadata": {
  "kernelspec": {
   "display_name": "Python 3",
   "language": "python",
   "name": "python3"
  },
  "language_info": {
   "codemirror_mode": {
    "name": "ipython",
    "version": 3
   },
   "file_extension": ".py",
   "mimetype": "text/x-python",
   "name": "python",
   "nbconvert_exporter": "python",
   "pygments_lexer": "ipython3",
   "version": "3.7.6"
  }
 },
 "nbformat": 4,
 "nbformat_minor": 4
}
