{
 "cells": [
  {
   "cell_type": "markdown",
   "metadata": {},
   "source": [
    "### Метод главных компонент"
   ]
  },
  {
   "cell_type": "markdown",
   "metadata": {},
   "source": [
    "В предложенном файле (`94_16.csv`) находится набор синтетических данных. Данные описывают 60 объектов, каждый из которых обладает 10 признаками. Ваша задача, используя метод главных компонент, перейти к новым координатам и найти следующие параметры."
   ]
  },
  {
   "cell_type": "code",
   "execution_count": 1,
   "metadata": {},
   "outputs": [],
   "source": [
    "import numpy as np\n",
    "import pandas as pd\n",
    "import sklearn\n",
    "from sklearn.decomposition import PCA\n",
    "import matplotlib\n",
    "import matplotlib.pyplot as plt"
   ]
  },
  {
   "cell_type": "code",
   "execution_count": 2,
   "metadata": {},
   "outputs": [
    {
     "data": {
      "text/html": [
       "<div>\n",
       "<style scoped>\n",
       "    .dataframe tbody tr th:only-of-type {\n",
       "        vertical-align: middle;\n",
       "    }\n",
       "\n",
       "    .dataframe tbody tr th {\n",
       "        vertical-align: top;\n",
       "    }\n",
       "\n",
       "    .dataframe thead th {\n",
       "        text-align: right;\n",
       "    }\n",
       "</style>\n",
       "<table border=\"1\" class=\"dataframe\">\n",
       "  <thead>\n",
       "    <tr style=\"text-align: right;\">\n",
       "      <th></th>\n",
       "      <th>0</th>\n",
       "      <th>1</th>\n",
       "      <th>2</th>\n",
       "      <th>3</th>\n",
       "      <th>4</th>\n",
       "      <th>5</th>\n",
       "      <th>6</th>\n",
       "      <th>7</th>\n",
       "      <th>8</th>\n",
       "      <th>9</th>\n",
       "    </tr>\n",
       "  </thead>\n",
       "  <tbody>\n",
       "    <tr>\n",
       "      <th>0</th>\n",
       "      <td>10.382991</td>\n",
       "      <td>-14.438544</td>\n",
       "      <td>-23.950798</td>\n",
       "      <td>-17.809813</td>\n",
       "      <td>2.480495</td>\n",
       "      <td>-15.743114</td>\n",
       "      <td>-9.112421</td>\n",
       "      <td>-27.390035</td>\n",
       "      <td>-11.955001</td>\n",
       "      <td>18.069910</td>\n",
       "    </tr>\n",
       "    <tr>\n",
       "      <th>1</th>\n",
       "      <td>18.987842</td>\n",
       "      <td>-13.071734</td>\n",
       "      <td>15.619164</td>\n",
       "      <td>-11.288528</td>\n",
       "      <td>-11.624820</td>\n",
       "      <td>14.845464</td>\n",
       "      <td>-4.924935</td>\n",
       "      <td>21.207876</td>\n",
       "      <td>-23.703025</td>\n",
       "      <td>4.440474</td>\n",
       "    </tr>\n",
       "    <tr>\n",
       "      <th>2</th>\n",
       "      <td>7.426000</td>\n",
       "      <td>-9.236580</td>\n",
       "      <td>-21.139348</td>\n",
       "      <td>6.732592</td>\n",
       "      <td>0.447684</td>\n",
       "      <td>-20.687020</td>\n",
       "      <td>-18.545136</td>\n",
       "      <td>7.758288</td>\n",
       "      <td>18.620790</td>\n",
       "      <td>-3.006755</td>\n",
       "    </tr>\n",
       "    <tr>\n",
       "      <th>3</th>\n",
       "      <td>10.718844</td>\n",
       "      <td>-10.240587</td>\n",
       "      <td>-20.604991</td>\n",
       "      <td>4.828083</td>\n",
       "      <td>-0.073568</td>\n",
       "      <td>-23.747055</td>\n",
       "      <td>-17.260869</td>\n",
       "      <td>7.074364</td>\n",
       "      <td>16.996747</td>\n",
       "      <td>-6.796469</td>\n",
       "    </tr>\n",
       "    <tr>\n",
       "      <th>4</th>\n",
       "      <td>10.662165</td>\n",
       "      <td>3.871777</td>\n",
       "      <td>12.384108</td>\n",
       "      <td>-1.921321</td>\n",
       "      <td>-1.990254</td>\n",
       "      <td>-5.469310</td>\n",
       "      <td>2.801321</td>\n",
       "      <td>-19.978717</td>\n",
       "      <td>23.414766</td>\n",
       "      <td>-2.654889</td>\n",
       "    </tr>\n",
       "  </tbody>\n",
       "</table>\n",
       "</div>"
      ],
      "text/plain": [
       "           0          1          2          3          4          5  \\\n",
       "0  10.382991 -14.438544 -23.950798 -17.809813   2.480495 -15.743114   \n",
       "1  18.987842 -13.071734  15.619164 -11.288528 -11.624820  14.845464   \n",
       "2   7.426000  -9.236580 -21.139348   6.732592   0.447684 -20.687020   \n",
       "3  10.718844 -10.240587 -20.604991   4.828083  -0.073568 -23.747055   \n",
       "4  10.662165   3.871777  12.384108  -1.921321  -1.990254  -5.469310   \n",
       "\n",
       "           6          7          8          9  \n",
       "0  -9.112421 -27.390035 -11.955001  18.069910  \n",
       "1  -4.924935  21.207876 -23.703025   4.440474  \n",
       "2 -18.545136   7.758288  18.620790  -3.006755  \n",
       "3 -17.260869   7.074364  16.996747  -6.796469  \n",
       "4   2.801321 -19.978717  23.414766  -2.654889  "
      ]
     },
     "execution_count": 2,
     "metadata": {},
     "output_type": "execute_result"
    }
   ],
   "source": [
    "X = pd.read_csv('94_16.csv', header=None)\n",
    "X.head()"
   ]
  },
  {
   "cell_type": "code",
   "execution_count": 3,
   "metadata": {},
   "outputs": [
    {
     "data": {
      "text/plain": [
       "array([-19.05792582,  31.91261445])"
      ]
     },
     "execution_count": 3,
     "metadata": {},
     "output_type": "execute_result"
    }
   ],
   "source": [
    "pca = PCA(n_components=2, svd_solver='full') #Создание объекта класса PCA. В качестве параметров выступает количество ГК и метод оптимизации\n",
    "X_transformed = pca.fit(X).transform(X) #X_transformed -- ndarray объектов, где каждый объект описывается двумя ГК\n",
    "X_transformed[0]"
   ]
  },
  {
   "cell_type": "markdown",
   "metadata": {},
   "source": [
    "Введите координату первого объекта относительно первой главной компоненты. Десятичный разделитель точка. Ответ округлите до тысячных."
   ]
  },
  {
   "cell_type": "code",
   "execution_count": 4,
   "metadata": {},
   "outputs": [
    {
     "data": {
      "text/plain": [
       "-19.058"
      ]
     },
     "execution_count": 4,
     "metadata": {},
     "output_type": "execute_result"
    }
   ],
   "source": [
    "np.round(X_transformed[0][0],3)"
   ]
  },
  {
   "cell_type": "markdown",
   "metadata": {},
   "source": [
    "\n",
    "\n",
    "Введите координату первого объекта относительно второй главной компоненты.\n",
    "Десятичный разделитель точка. Ответ округлите до тысячных.\n",
    "\n"
   ]
  },
  {
   "cell_type": "code",
   "execution_count": 5,
   "metadata": {},
   "outputs": [
    {
     "data": {
      "text/plain": [
       "31.913"
      ]
     },
     "execution_count": 5,
     "metadata": {},
     "output_type": "execute_result"
    }
   ],
   "source": [
    "np.round(X_transformed[0][1], 3)"
   ]
  },
  {
   "cell_type": "markdown",
   "metadata": {},
   "source": [
    "\n",
    "Введите долю объясненной дисперсии при использовании первых двух главных компонент.\n",
    "Десятичный разделитель точка. Ответ округлите до тысячных.\n",
    "\n"
   ]
  },
  {
   "cell_type": "code",
   "execution_count": 6,
   "metadata": {},
   "outputs": [
    {
     "data": {
      "text/plain": [
       "0.781"
      ]
     },
     "execution_count": 6,
     "metadata": {},
     "output_type": "execute_result"
    }
   ],
   "source": [
    "explained_variance = np.round(np.cumsum(pca.explained_variance_ratio_),3)\n",
    "explained_variance[1]"
   ]
  },
  {
   "cell_type": "markdown",
   "metadata": {},
   "source": [
    " \n",
    " \n",
    "Какое минимальное количество главных компонент необходимо использовать, чтобы доля объясненной дисперсии превышала 85%\n",
    "Введите целое неотрицательное число\n",
    "\n"
   ]
  },
  {
   "cell_type": "code",
   "execution_count": 7,
   "metadata": {},
   "outputs": [
    {
     "data": {
      "text/plain": [
       "array([0.492, 0.781, 0.991, 0.993, 0.995, 0.996, 0.998, 0.999, 0.999,\n",
       "       1.   ])"
      ]
     },
     "execution_count": 7,
     "metadata": {},
     "output_type": "execute_result"
    }
   ],
   "source": [
    "pca = PCA(n_components=10, svd_solver='full')\n",
    "X_full = pca.fit(X).transform(X)\n",
    "explained_variance = np.round(np.cumsum(pca.explained_variance_ratio_),3)\n",
    "explained_variance"
   ]
  },
  {
   "cell_type": "code",
   "execution_count": 8,
   "metadata": {},
   "outputs": [
    {
     "data": {
      "text/plain": [
       "3"
      ]
     },
     "execution_count": 8,
     "metadata": {},
     "output_type": "execute_result"
    }
   ],
   "source": [
    "i = 1\n",
    "while(explained_variance[i-1]<=0.85):\n",
    "    i+=1\n",
    "i"
   ]
  },
  {
   "cell_type": "markdown",
   "metadata": {},
   "source": [
    "\n",
    "Какое количество групп объектов можно выделить, если использовать только первые две главных копоненты?"
   ]
  },
  {
   "cell_type": "code",
   "execution_count": 9,
   "metadata": {},
   "outputs": [
    {
     "data": {
      "text/plain": [
       "<matplotlib.collections.PathCollection at 0x7f7999cda3d0>"
      ]
     },
     "execution_count": 9,
     "metadata": {},
     "output_type": "execute_result"
    },
    {
     "data": {
      "image/png": "[encoded data removed]",
      "text/plain": [
       "<Figure size 432x288 with 1 Axes>"
      ]
     },
     "metadata": {
      "needs_background": "light"
     },
     "output_type": "display_data"
    }
   ],
   "source": [
    "pca = PCA(n_components=2, svd_solver='full') #Создание объекта класса PCA. В качестве параметров выступает количество ГК и метод оптимизации\n",
    "X_transformed = pca.fit(X).transform(X) #X_transformed -- ndarray объектов, где каждый объект описывается двумя ГК\n",
    "plt.scatter(X_transformed[:101, 0], X_transformed[:101, 1], edgecolor='none', s=40,cmap='winter')"
   ]
  },
  {
   "cell_type": "code",
   "execution_count": null,
   "metadata": {},
   "outputs": [],
   "source": []
  }
 ],
 "metadata": {
  "kernelspec": {
   "display_name": "Python 3",
   "language": "python",
   "name": "python3"
  },
  "language_info": {
   "codemirror_mode": {
    "name": "ipython",
    "version": 3
   },
   "file_extension": ".py",
   "mimetype": "text/x-python",
   "name": "python",
   "nbconvert_exporter": "python",
   "pygments_lexer": "ipython3",
   "version": "3.7.6"
  }
 },
 "nbformat": 4,
 "nbformat_minor": 4
}
