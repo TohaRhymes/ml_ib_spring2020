{
 "cells": [
  {
   "cell_type": "markdown",
   "metadata": {},
   "source": [
    "# Нейронные сети\n",
    "__Суммарное количество баллов: 10__\n",
    "\n",
    "В этом домашнем задании можно использовать готовые классы библиотек PyTorch, Keras, TensorFlow."
   ]
  },
  {
   "cell_type": "code",
   "execution_count": 11,
   "metadata": {},
   "outputs": [],
   "source": [
    "import torch\n",
    "import random\n",
    "import numpy as np\n",
    "import pandas as pd\n",
    "import torchvision.datasets\n",
    "from sklearn.model_selection import train_test_split\n",
    "from math import sqrt\n",
    "from time import time\n",
    "import matplotlib.pyplot as plt\n",
    "\n",
    "random.seed(0)\n",
    "np.random.seed(0)\n",
    "torch.manual_seed(0)\n",
    "torch.cuda.manual_seed(0)\n",
    "torch.backends.cudnn.deterministic = True"
   ]
  },
  {
   "cell_type": "markdown",
   "metadata": {},
   "source": [
    "### Задание 1 (4 балла)\n",
    "\n",
    "Создайте сеть из трех сверточных слоев по 8 сверток 3х3 и двух полносвязных слоев по 64 нейрона. \n",
    "\n",
    "Обучите сеть на датасете mnist с тремя разными функциями активации в слоях (sigmoid, tanh, ReLU)."
   ]
  },
  {
   "cell_type": "markdown",
   "metadata": {},
   "source": [
    "#### Самый главный класс:\n",
    "У нас на вход 28x28 и надо чтобы ядро было 3x3 и сверток 8 и сделать это надо за три слоя сверточных (потом обычные пойдут).\n",
    "\n",
    "Я просто поэкспериментировал, и получил рабочую штуку:\n",
    "\n",
    "\n",
    "* 1й слой: ядро 3x3, паддинг шириной 1. Получаем на выходе также 28x8 изображение. И применяем к нему стандартный пуллинг: 2x2 с шагом 2 , получаем 14x14.\n",
    "* 2й слой: ядро 3x3, паддинг шириной 2 => на выходе 16x16. Пулинг опять стандартный 2x2 с шагом 2 => 8x8 изображение\n",
    "* 3й слой: ядро 3x3, паддинг шириной 1 => на выходе также 8x8 изображение. Теперь пулинг 4x4 и страйдом 2 и 4, чтобы получить 8 \"пикселей\".\n",
    "Теперь все просто, 8 сверток, в каждой по 8 фичей, прогоним через два полносвязных слоев по 64 нейрона и получим ответ."
   ]
  },
  {
   "cell_type": "code",
   "execution_count": 2,
   "metadata": {},
   "outputs": [],
   "source": [
    "def get_activation(activation_type = 'relu'):\n",
    "    if activation_type == 'tanh':\n",
    "        return torch.nn.Tanh()\n",
    "    if activation_type == 'sigmoid':\n",
    "        return torch.nn.Sigmoid()\n",
    "    else:\n",
    "        return torch.nn.ReLU()\n",
    "    \n",
    "\n",
    "class TohaNet(torch.nn.Module):\n",
    "    def __init__(self, activation_type = 'relu'):\n",
    "        super(TohaNet, self).__init__()\n",
    "        \n",
    "        self.conv1 = torch.nn.Conv2d(\n",
    "            in_channels=1, out_channels=8, kernel_size=3, padding=1)\n",
    "        self.act1  = get_activation(activation_type = activation_type)\n",
    "        self.pool1 = torch.nn.MaxPool2d(kernel_size=2, stride=2)\n",
    "       \n",
    "        self.conv2 = torch.nn.Conv2d(\n",
    "            in_channels=8, out_channels=8, kernel_size=3, padding=2)\n",
    "        self.act2  = get_activation(activation_type)\n",
    "        self.pool2 = torch.nn.MaxPool2d(kernel_size=2, stride=2)\n",
    "       \n",
    "        self.conv3 = torch.nn.Conv2d(\n",
    "            in_channels=8, out_channels=8, kernel_size=3, padding=1)\n",
    "        self.act3  = get_activation(activation_type)\n",
    "        self.pool3 = torch.nn.MaxPool2d(kernel_size=2, stride=(2, 2))\n",
    "        \n",
    "        \n",
    "        self.fc1   = torch.nn.Linear(4*4*8, 64)\n",
    "        self.act4  = get_activation(activation_type)\n",
    "        \n",
    "        self.fc2   = torch.nn.Linear(64, 10)\n",
    "    \n",
    "    def forward(self, x):\n",
    "        \n",
    "        x = self.conv1(x)\n",
    "        x = self.act1(x)\n",
    "        x = self.pool1(x)\n",
    "        \n",
    "        x = self.conv2(x)\n",
    "        x = self.act2(x)\n",
    "        x = self.pool2(x)\n",
    "        \n",
    "        x = self.conv3(x)\n",
    "        x = self.act3(x)\n",
    "        x = self.pool3(x)\n",
    "        \n",
    "        x = x.view(x.size(0), x.size(1) * x.size(2) * x.size(3))\n",
    "\n",
    "        x = self.fc1(x)\n",
    "        x = self.act4(x)\n",
    "        x = self.fc2(x)\n",
    "        \n",
    "        return x"
   ]
  },
  {
   "cell_type": "markdown",
   "metadata": {},
   "source": [
    "Теперь прочитаем и обработаем файлик:"
   ]
  },
  {
   "cell_type": "code",
   "execution_count": 3,
   "metadata": {},
   "outputs": [],
   "source": [
    "def numpy_2d_from_1d(array):\n",
    "    n = int(sqrt(len(array)))\n",
    "    i = 0\n",
    "    answer_array = []\n",
    "    while (i < n*n):\n",
    "        answer_array.append(array[i:i+n])\n",
    "        i+=n\n",
    "    return answer_array\n",
    "\n",
    "def from_X_to_torch(X):\n",
    "    final_array = []\n",
    "    for index, row in X.iterrows():\n",
    "        final_array.append(numpy_2d_from_1d(row.values))\n",
    "    return torch.tensor(final_array)\n",
    "\n",
    "def read_spam_dataset(path_to_csv):\n",
    "    data = pd.read_csv(path_to_csv)\n",
    "    X = data.drop(\"label\", axis=1)\n",
    "    y = data.label\n",
    "    X_train, X_test, y_train, y_test = train_test_split(X, y, train_size = 0.8)\n",
    "    X_train = from_X_to_torch(X_train)\n",
    "    X_test = from_X_to_torch(X_test)\n",
    "    y_train = torch.tensor(y_train.values)\n",
    "    y_test = torch.tensor(y_test.values)\n",
    "    # Это нужно, чтобы появились \"каналы\"\n",
    "    X_train = X_train.unsqueeze(1).float()\n",
    "    X_test = X_test.unsqueeze(1).float()\n",
    "    return X_train, X_test, y_train, y_test"
   ]
  },
  {
   "cell_type": "markdown",
   "metadata": {},
   "source": [
    "Главная функция, которая будет обучать:"
   ]
  },
  {
   "cell_type": "code",
   "execution_count": 4,
   "metadata": {},
   "outputs": [],
   "source": [
    "def run(activation:str, X_train, X_test, y_train, y_test, not_mnist = False):\n",
    "    tic = time()\n",
    "    try:\n",
    "        if not_mnist:\n",
    "            tohaNet = TohaNet_2(activation)\n",
    "        else:\n",
    "            tohaNet = TohaNet(activation)\n",
    "        device = torch.device('cuda:0' if torch.cuda.is_available() else 'cpu')\n",
    "        tohaNet = tohaNet.to(device)\n",
    "\n",
    "        # Лосс - кросс-энтропия, потому что классификация\n",
    "        # Градиентный спуск - Адам\n",
    "        loss = torch.nn.CrossEntropyLoss()\n",
    "        optimizer = torch.optim.Adam(tohaNet.parameters(), lr=1.0e-3)\n",
    "\n",
    "\n",
    "        batch_size = 50\n",
    "\n",
    "        test_accuracy_history = []\n",
    "        test_loss_history = []\n",
    "\n",
    "        X_test = X_test.to(device)\n",
    "        y_test = y_test.to(device)\n",
    "\n",
    "        for epoch in range(10000):\n",
    "            order = np.random.permutation(len(X_train))\n",
    "            for start_index in range(0, len(X_train), batch_size):\n",
    "                optimizer.zero_grad()\n",
    "\n",
    "                batch_indexes = order[start_index:start_index+batch_size]\n",
    "\n",
    "                X_batch = X_train[batch_indexes].to(device)\n",
    "                y_batch = y_train[batch_indexes].to(device)\n",
    "\n",
    "                preds = tohaNet.forward(X_batch) \n",
    "\n",
    "                loss_value = loss(preds, y_batch)\n",
    "                loss_value.backward()\n",
    "\n",
    "                optimizer.step()\n",
    "\n",
    "            test_preds = tohaNet.forward(X_test)\n",
    "            test_loss_history.append(loss(test_preds, y_test).data.cpu())\n",
    "\n",
    "            accuracy = (test_preds.argmax(dim=1) == y_test).float().mean().data.cpu()\n",
    "            test_accuracy_history.append(accuracy)\n",
    "\n",
    "            print(accuracy)\n",
    "    except KeyboardInterrupt:\n",
    "        print('Время обучения: '+str(time()-tic))\n",
    "        print('Изменение accuracy по эпохам:')\n",
    "        plt.plot(test_accuracy_history)\n",
    "        plt.show()\n",
    "        \n",
    "        print('Изменение loss_function по эпохам:')\n",
    "        plt.plot(test_loss_history)\n",
    "        plt.show()"
   ]
  },
  {
   "cell_type": "code",
   "execution_count": 215,
   "metadata": {},
   "outputs": [],
   "source": [
    "X_train, X_test, y_train, y_test = read_spam_dataset('data/mnist_notmnist/mnist.csv')"
   ]
  },
  {
   "cell_type": "code",
   "execution_count": 216,
   "metadata": {},
   "outputs": [
    {
     "data": {
      "text/plain": [
       "torch.Size([8000, 1, 28, 28])"
      ]
     },
     "execution_count": 216,
     "metadata": {},
     "output_type": "execute_result"
    }
   ],
   "source": [
    "X_train.shape"
   ]
  },
  {
   "cell_type": "code",
   "execution_count": 217,
   "metadata": {},
   "outputs": [
    {
     "data": {
      "text/plain": [
       "torch.Size([8000])"
      ]
     },
     "execution_count": 217,
     "metadata": {},
     "output_type": "execute_result"
    }
   ],
   "source": [
    "y_train.shape"
   ]
  },
  {
   "cell_type": "markdown",
   "metadata": {},
   "source": [
    "Быстренькая проверка, что все идет по плану:"
   ]
  },
  {
   "cell_type": "code",
   "execution_count": 94,
   "metadata": {},
   "outputs": [
    {
     "data": {
      "image/png": "[encoded data removed]",
      "text/plain": [
       "<Figure size 432x288 with 1 Axes>"
      ]
     },
     "metadata": {
      "needs_background": "light"
     },
     "output_type": "display_data"
    },
    {
     "name": "stdout",
     "output_type": "stream",
     "text": [
      "tensor(4)\n"
     ]
    }
   ],
   "source": [
    "\n",
    "plt.imshow(X_train[0, 0, :, :])\n",
    "plt.show()\n",
    "print(y_train[0])"
   ]
  },
  {
   "cell_type": "markdown",
   "metadata": {},
   "source": [
    "Запущу, и остановлю на том accuracy, когда +- все будет уже осциллировать:\n",
    "1. sigmoid"
   ]
  },
  {
   "cell_type": "code",
   "execution_count": 99,
   "metadata": {
    "scrolled": true
   },
   "outputs": [
    {
     "name": "stdout",
     "output_type": "stream",
     "text": [
      "tensor(0.1285)\n",
      "tensor(0.1375)\n",
      "tensor(0.3980)\n",
      "tensor(0.6240)\n",
      "tensor(0.6950)\n",
      "tensor(0.7865)\n",
      "tensor(0.8290)\n",
      "tensor(0.8525)\n",
      "tensor(0.8710)\n",
      "tensor(0.8855)\n",
      "tensor(0.8990)\n",
      "tensor(0.9095)\n",
      "tensor(0.9150)\n",
      "tensor(0.9180)\n",
      "tensor(0.9275)\n",
      "tensor(0.9250)\n",
      "tensor(0.9345)\n",
      "tensor(0.9385)\n",
      "tensor(0.9445)\n",
      "tensor(0.9420)\n",
      "tensor(0.9490)\n",
      "tensor(0.9510)\n",
      "tensor(0.9505)\n",
      "tensor(0.9540)\n",
      "tensor(0.9555)\n",
      "tensor(0.9605)\n",
      "tensor(0.9610)\n",
      "tensor(0.9575)\n",
      "Время обучения: 96.1299557685852\n",
      "Изменение accuracy по эпохам:\n"
     ]
    },
    {
     "data": {
      "image/png": "[encoded data removed]",
      "text/plain": [
       "<Figure size 432x288 with 1 Axes>"
      ]
     },
     "metadata": {
      "needs_background": "light"
     },
     "output_type": "display_data"
    },
    {
     "name": "stdout",
     "output_type": "stream",
     "text": [
      "Изменение loss_function по эпохам:\n"
     ]
    },
    {
     "data": {
      "image/png": "[encoded data removed]",
      "text/plain": [
       "<Figure size 432x288 with 1 Axes>"
      ]
     },
     "metadata": {
      "needs_background": "light"
     },
     "output_type": "display_data"
    }
   ],
   "source": [
    "run('sigmoid', X_train, X_test, y_train, y_test)"
   ]
  },
  {
   "cell_type": "markdown",
   "metadata": {},
   "source": [
    "2. tanh"
   ]
  },
  {
   "cell_type": "code",
   "execution_count": 100,
   "metadata": {},
   "outputs": [
    {
     "name": "stdout",
     "output_type": "stream",
     "text": [
      "tensor(0.8215)\n",
      "tensor(0.8865)\n",
      "tensor(0.9175)\n",
      "tensor(0.9300)\n",
      "tensor(0.9380)\n",
      "tensor(0.9465)\n",
      "tensor(0.9480)\n",
      "tensor(0.9585)\n",
      "tensor(0.9495)\n",
      "tensor(0.9570)\n",
      "tensor(0.9585)\n",
      "tensor(0.9580)\n",
      "tensor(0.9640)\n",
      "tensor(0.9585)\n",
      "tensor(0.9585)\n",
      "tensor(0.9595)\n",
      "tensor(0.9630)\n",
      "tensor(0.9630)\n",
      "Время обучения: 63.89311218261719\n",
      "Изменение accuracy по эпохам:\n"
     ]
    },
    {
     "data": {
      "image/png": "[encoded data removed]",
      "text/plain": [
       "<Figure size 432x288 with 1 Axes>"
      ]
     },
     "metadata": {
      "needs_background": "light"
     },
     "output_type": "display_data"
    },
    {
     "name": "stdout",
     "output_type": "stream",
     "text": [
      "Изменение loss_function по эпохам:\n"
     ]
    },
    {
     "data": {
      "image/png": "[encoded data removed]",
      "text/plain": [
       "<Figure size 432x288 with 1 Axes>"
      ]
     },
     "metadata": {
      "needs_background": "light"
     },
     "output_type": "display_data"
    }
   ],
   "source": [
    "run('tanh', X_train, X_test, y_train, y_test)"
   ]
  },
  {
   "cell_type": "markdown",
   "metadata": {},
   "source": [
    "3. relu"
   ]
  },
  {
   "cell_type": "code",
   "execution_count": 101,
   "metadata": {},
   "outputs": [
    {
     "name": "stdout",
     "output_type": "stream",
     "text": [
      "tensor(0.9265)\n",
      "tensor(0.9460)\n",
      "tensor(0.9450)\n",
      "tensor(0.9530)\n",
      "tensor(0.9490)\n",
      "tensor(0.9620)\n",
      "tensor(0.9665)\n",
      "tensor(0.9665)\n",
      "tensor(0.9665)\n",
      "tensor(0.9670)\n",
      "tensor(0.9600)\n",
      "tensor(0.9705)\n",
      "tensor(0.9705)\n",
      "Время обучения: 45.5383186340332\n",
      "Изменение accuracy по эпохам:\n"
     ]
    },
    {
     "data": {
      "image/png": "[encoded data removed]",
      "text/plain": [
       "<Figure size 432x288 with 1 Axes>"
      ]
     },
     "metadata": {
      "needs_background": "light"
     },
     "output_type": "display_data"
    },
    {
     "name": "stdout",
     "output_type": "stream",
     "text": [
      "Изменение loss_function по эпохам:\n"
     ]
    },
    {
     "data": {
      "image/png": "[encoded data removed]",
      "text/plain": [
       "<Figure size 432x288 with 1 Axes>"
      ]
     },
     "metadata": {
      "needs_background": "light"
     },
     "output_type": "display_data"
    }
   ],
   "source": [
    "run('relu', X_train, X_test, y_train, y_test)"
   ]
  },
  {
   "cell_type": "markdown",
   "metadata": {},
   "source": [
    "### Задание 2 (6 баллов)\n",
    "\n",
    "Достигните точности 87% на test датасете notMNIST.\n",
    "\n",
    "Архитектура сети может быть любая. Можно использовать Data Augmentation."
   ]
  },
  {
   "cell_type": "code",
   "execution_count": 5,
   "metadata": {},
   "outputs": [],
   "source": [
    "def images_to_tensor(path:str):\n",
    "    data = torchvision.datasets.ImageFolder(root = path, transform=torchvision.transforms.ToTensor())\n",
    "    data_loader = torch.utils.data.DataLoader(data, batch_size=int(len(data)/2), shuffle=True, num_workers=8)\n",
    "    return data_loader\n",
    "\n",
    "def array_to_datasets(tensor_array):\n",
    "    test = True\n",
    "    for array in tensor_array:\n",
    "        if test:\n",
    "            test = False\n",
    "            X_test = array[0]\n",
    "            y_test = array[1]\n",
    "        else:\n",
    "            X_train = array[0]\n",
    "            y_train = array[1]\n",
    "    \n",
    "    return X_train, X_test, y_train, y_test"
   ]
  },
  {
   "cell_type": "code",
   "execution_count": 18,
   "metadata": {},
   "outputs": [],
   "source": [
    "class TohaNet_2(torch.nn.Module):\n",
    "    def __init__(self, activation_type = 'relu'):\n",
    "        super(TohaNet_2, self).__init__()\n",
    "        \n",
    "        self.conv1 = torch.nn.Conv2d(\n",
    "            in_channels=3, out_channels=8, kernel_size=3, padding=1)\n",
    "        self.act1  = get_activation(activation_type = activation_type)\n",
    "        self.pool1 = torch.nn.MaxPool2d(kernel_size=2, stride=2)\n",
    "       \n",
    "        self.conv2 = torch.nn.Conv2d(\n",
    "            in_channels=8, out_channels=8, kernel_size=3, padding=2)\n",
    "        self.act2  = get_activation(activation_type)\n",
    "        self.pool2 = torch.nn.MaxPool2d(kernel_size=2, stride=2)\n",
    "       \n",
    "        self.conv3 = torch.nn.Conv2d(\n",
    "            in_channels=8, out_channels=8, kernel_size=3, padding=1)\n",
    "        self.act3  = get_activation(activation_type)\n",
    "        self.pool3 = torch.nn.MaxPool2d(kernel_size=2, stride=(2, 2))\n",
    "        \n",
    "        \n",
    "        self.fc1   = torch.nn.Linear(4*4*8, 64)\n",
    "        self.act4  = get_activation(activation_type)\n",
    "        \n",
    "        self.fc2   = torch.nn.Linear(64, 10)\n",
    "    \n",
    "    def forward(self, x):\n",
    "        \n",
    "        x = self.conv1(x)\n",
    "        x = self.act1(x)\n",
    "        x = self.pool1(x)\n",
    "        \n",
    "        x = self.conv2(x)\n",
    "        x = self.act2(x)\n",
    "        x = self.pool2(x)\n",
    "        \n",
    "        x = self.conv3(x)\n",
    "        x = self.act3(x)\n",
    "        x = self.pool3(x)\n",
    "        \n",
    "        x = x.view(x.size(0), x.size(1) * x.size(2) * x.size(3))\n",
    "\n",
    "        x = self.fc1(x)\n",
    "        x = self.act4(x)\n",
    "        x = self.fc2(x)\n",
    "        \n",
    "        return x"
   ]
  },
  {
   "cell_type": "code",
   "execution_count": 7,
   "metadata": {},
   "outputs": [],
   "source": [
    "tensor_array = images_to_tensor('data/mnist_notmnist/notMNIST_small')\n",
    "X_train, X_test, y_train, y_test = array_to_datasets(tensor_array)"
   ]
  },
  {
   "cell_type": "code",
   "execution_count": 19,
   "metadata": {},
   "outputs": [
    {
     "name": "stdout",
     "output_type": "stream",
     "text": [
      "tensor(0.8480)\n",
      "tensor(0.8900)\n",
      "tensor(0.8897)\n",
      "tensor(0.9025)\n",
      "tensor(0.9018)\n",
      "tensor(0.9107)\n",
      "tensor(0.9112)\n",
      "tensor(0.9147)\n",
      "tensor(0.9210)\n",
      "tensor(0.9168)\n",
      "tensor(0.9172)\n",
      "tensor(0.9257)\n",
      "tensor(0.9199)\n",
      "tensor(0.9252)\n",
      "Время обучения: 53.65597367286682\n",
      "Изменение accuracy по эпохам:\n"
     ]
    },
    {
     "data": {
      "image/png": "[encoded data removed]",
      "text/plain": [
       "<Figure size 432x288 with 1 Axes>"
      ]
     },
     "metadata": {
      "needs_background": "light"
     },
     "output_type": "display_data"
    },
    {
     "name": "stdout",
     "output_type": "stream",
     "text": [
      "Изменение loss_function по эпохам:\n"
     ]
    },
    {
     "data": {
      "image/png": "[encoded data removed]",
      "text/plain": [
       "<Figure size 432x288 with 1 Axes>"
      ]
     },
     "metadata": {
      "needs_background": "light"
     },
     "output_type": "display_data"
    }
   ],
   "source": [
    "run('relu', X_train, X_test, y_train, y_test, not_mnist = True)"
   ]
  },
  {
   "cell_type": "code",
   "execution_count": null,
   "metadata": {},
   "outputs": [],
   "source": []
  }
 ],
 "metadata": {
  "kernelspec": {
   "display_name": "Python 3",
   "language": "python",
   "name": "python3"
  },
  "language_info": {
   "codemirror_mode": {
    "name": "ipython",
    "version": 3
   },
   "file_extension": ".py",
   "mimetype": "text/x-python",
   "name": "python",
   "nbconvert_exporter": "python",
   "pygments_lexer": "ipython3",
   "version": "3.7.6"
  }
 },
 "nbformat": 4,
 "nbformat_minor": 2
}
